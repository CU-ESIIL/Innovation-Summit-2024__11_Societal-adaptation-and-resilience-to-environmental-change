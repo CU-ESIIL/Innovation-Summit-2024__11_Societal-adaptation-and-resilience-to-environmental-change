{
 "cells": [
  {
   "cell_type": "code",
   "execution_count": 35,
   "id": "a28b3ff0",
   "metadata": {},
   "outputs": [],
   "source": [
    "from census import Census\n",
    "from us import states\n",
    "import pandas as pd\n",
    "import requests\n",
    "import plotly.figure_factory as ff\n"
   ]
  },
  {
   "cell_type": "code",
   "execution_count": 34,
   "id": "0161340c",
   "metadata": {},
   "outputs": [],
   "source": [
    "API_key = \"b9187a8cf54ee740ccd1c01e6ae1c58f1d333132\""
   ]
  },
  {
   "cell_type": "code",
   "execution_count": 27,
   "id": "90cfeb75",
   "metadata": {},
   "outputs": [
    {
     "data": {
      "text/html": [
       "<div>\n",
       "<style scoped>\n",
       "    .dataframe tbody tr th:only-of-type {\n",
       "        vertical-align: middle;\n",
       "    }\n",
       "\n",
       "    .dataframe tbody tr th {\n",
       "        vertical-align: top;\n",
       "    }\n",
       "\n",
       "    .dataframe thead th {\n",
       "        text-align: right;\n",
       "    }\n",
       "</style>\n",
       "<table border=\"1\" class=\"dataframe\">\n",
       "  <thead>\n",
       "    <tr style=\"text-align: right;\">\n",
       "      <th></th>\n",
       "      <th>B01003_001E</th>\n",
       "      <th>state</th>\n",
       "    </tr>\n",
       "  </thead>\n",
       "  <tbody>\n",
       "    <tr>\n",
       "      <th>0</th>\n",
       "      <td>7050299.0</td>\n",
       "      <td>04</td>\n",
       "    </tr>\n",
       "  </tbody>\n",
       "</table>\n",
       "</div>"
      ],
      "text/plain": [
       "   B01003_001E state\n",
       "0    7050299.0    04"
      ]
     },
     "execution_count": 27,
     "metadata": {},
     "output_type": "execute_result"
    }
   ],
   "source": [
    "c = Census(\"b9187a8cf54ee740ccd1c01e6ae1c58f1d333132\")\n",
    "az_pop = c.acs5.state((\"B01003_001E\"), states.AZ.fips, year=2019)\n",
    "az_pop_df = pd.DataFrame(az_pop)\n",
    "az_pop_df"
   ]
  },
  {
   "cell_type": "code",
   "execution_count": 32,
   "id": "e4dea255",
   "metadata": {},
   "outputs": [
    {
     "data": {
      "text/plain": [
       "<bound method NDFrame.head of                             NAME     POP              DENSITY state county\n",
       "0       Fayette County, Illinois   21336    29.78064343800000    17    051\n",
       "1         Logan County, Illinois   28618    46.30324084300000    17    107\n",
       "2        Saline County, Illinois   23491    61.82000110700000    17    165\n",
       "3          Lake County, Illinois  696535  1569.12606330000000    17    097\n",
       "4        Massac County, Illinois   13772    58.05047449800000    17    127\n",
       "...                          ...     ...                  ...   ...    ...\n",
       "3215  Crockett County, Tennessee   14230    53.59129453000000    47    033\n",
       "3216      Lake County, Tennessee    7016    42.31986400000000    47    095\n",
       "3217      Knox County, Tennessee  470313   925.21884364000000    47    093\n",
       "3218   Benton County, Washington  204390   120.22256331000000    53    005\n",
       "3219    Clark County, Washington  488241   776.85533336000000    53    011\n",
       "\n",
       "[3220 rows x 5 columns]>"
      ]
     },
     "execution_count": 32,
     "metadata": {},
     "output_type": "execute_result"
    }
   ],
   "source": [
    "# This gets population for all states in 2019\n",
    "pop_url = f'https://api.census.gov/data/2019/pep/population?get=NAME,POP,DENSITY&for=county:*&key={API_key}'\n",
    "response = requests.get(pop_url)\n",
    "pop_data = response.json()\n",
    "pop_df = pd.DataFrame(pop_data[1:], columns=pop_data[0])\n",
    "pop_df.head"
   ]
  },
  {
   "cell_type": "code",
   "execution_count": null,
   "id": "1c322e5a",
   "metadata": {},
   "outputs": [],
   "source": []
  }
 ],
 "metadata": {
  "kernelspec": {
   "display_name": "Python 3 (ipykernel)",
   "language": "python",
   "name": "python3"
  },
  "language_info": {
   "codemirror_mode": {
    "name": "ipython",
    "version": 3
   },
   "file_extension": ".py",
   "mimetype": "text/x-python",
   "name": "python",
   "nbconvert_exporter": "python",
   "pygments_lexer": "ipython3",
   "version": "3.11.9"
  }
 },
 "nbformat": 4,
 "nbformat_minor": 5
}
